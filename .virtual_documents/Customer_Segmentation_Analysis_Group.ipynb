# Dependencies and Setup

import os
import pandas as pd
from pathlib import Path
import matplotlib.pyplot as plt
import numpy as np
from scipy import stats
from scipy.stats import chi2_contingency
import warnings
warnings.simplefilter(action='ignore', category=FutureWarning)

customer_data_to_load = Path("customer_segmentation_data.csv")

cs_df = pd.read_csv(customer_data_to_load)
customer_segmentation = pd.read_csv(customer_data_to_load)

cs_df.head()
# customer_segmentation.head()





# Calculate # of unique customers

number_customer = cs_df['Customer ID'].nunique()
number_customer


# Add a column "Customer Number" in the csv file
# Every row is considered as a different customer, even having the same customer ID

counter = 0

for index, row in cs_df.iterrows():
    if pd.notna(row['Customer ID']):
        counter += 1
    cs_df.at[index, 'Customer Number'] = counter

cs_df.insert(1, 'Customer Number', cs_df.pop('Customer Number'))

# resources_folder = Path("Resources")

cs_df.to_csv("modified_customer_segmentation_1.csv", index=False)

cs_df.head()





# Add a column "Customer Number" in the csv file
# Every row is considered as a different customer, even having the same customer ID

counter = 0

for index, row in cs_df.iterrows():
    if pd.notna(row['Customer ID']):
        counter += 1
    customer_segmentation.at[index, 'Customer Number'] = counter

customer_segmentation.insert(1, 'Customer Number', customer_segmentation.pop('Customer Number'))

# resources_folder = Path("Resources")

customer_segmentation.to_csv("modified_customer_segmentation_2.csv", index=False)

customer_segmentation.head()





print(cs_df.columns)


cs_df.drop(columns=['Customer ID'], inplace=True)


correlation = cs_df['Coverage Amount'].corr(cs_df['Income Level'])
print(f"The correlation between Insurance Coverage and Income Level is: {correlation}")





scatter_plot = plt.scatter(cs_df['Income Level'], cs_df['Coverage Amount'])

plt.xlabel("Income Level")
plt.ylabel("Coverage Amount")
plt.title("Income Level vs. Coverage Amount")

folder_path = "Project 1 Images"
file_path = os.path.join(folder_path, "Income Level vs. Coverage Amount.png")
plt.savefig(file_path)

scatter_plot


# Establish the bins
income_bins = [20000, 51000, 80000, 116000, 150000]
labels = ["20000-51000", "51000-80000", "80000-116000","116000-150000"]


# Take the "Income Level" column, bin it according to the specified bins, assign labels to each bin, replace original column
cs_df['Income Level']=pd.cut(cs_df['Income Level'],bins=income_bins,labels=labels,include_lowest=True)
cs_df.head()


# Establish the bins
coverage_bins = [200000, 480000, 740000, 1000000]
labels2 = ["200000-480000", "480000-7400000", "7400000-1000000"]


# Take the "Coverage Amount" column, bin it according to the specified bins, assign labels to each bin, replace original column
cs_df['Coverage Amount']=pd.cut(cs_df['Coverage Amount'],bins=coverage_bins,labels=labels2,include_lowest=True)
cs_df.head()


# Calculate the "Totals" to represent the count of observations for each combination of education and income levels
income_by_education = cs_df.groupby(["Education Level", "Income Level"]).size().reset_index(name='Totals')
income_by_education


# Calculate the "Totals" to represent the count of observations for each combination of coverage amount and income levels
income_by_coverage = cs_df.groupby(["Coverage Amount", "Income Level"]).size().reset_index(name='Totals')
income_by_coverage


# Create grouped bar chart to visualize the counts of education levels by income levels

education = ["Associate", "Bachelor", "Doctorate", "High School", "Master"]
income_bin = ["20000-51000", "51000-80000", "80000-116000", "116000-150000"]
counts = [
    [2900, 3108, 3105, 3100],
    [2353,2342,2170,2349],
    [3031,3147, 2961, 2964],
    [2263,2326,2464, 2313]
]

fig, ax = plt.subplots(figsize=(9, 6))
bar_width = 0.15

for i, (educate, data2) in enumerate(zip(education, counts)):
    x = range(len(data2))
    ax.bar([pos + i * bar_width for pos in x], data2, width=bar_width, label=educate)

ax.set_xticks([pos + bar_width * 2.5 for pos in range(len(income_bin))])
ax.set_xticklabels(income_bin)
ax.set_xlabel('Income Level')
ax.set_ylabel('Counts')
ax.set_title('Counts of Education Level by Income Level')
ax.legend(title='Education Level', bbox_to_anchor=(1.05, 1), loc='upper left')

folder_path = "Project 1 Images"

file_path = os.path.join(folder_path, "Counts of Education Level by Income Level.png")
plt.savefig(file_path)

plt.show()


# Create grouped bar chart to visualize the counts of coverage ranges by income levels

coverage = ["200000-480000", "480000-7400000", "7400000-1000000"]
income_bin = ["20000-51000", "51000-80000", "80000-116000", "116000-150000"]
counts = [
    [3956, 4111,4121,4202],
    [3377,3305,3368,3240],
    [3225,3540,3287,3272]
]

fig, ax = plt.subplots(figsize=(9, 6))
bar_width = 0.15

for i, (coverage, data2) in enumerate(zip(coverage, counts)):
    x = range(len(data2))
    ax.bar([pos + i * bar_width for pos in x], data2, width=bar_width, label=coverage)

ax.set_xticks([pos + bar_width * 2.5 for pos in range(len(income_bin))])
ax.set_xticklabels(income_bin)
ax.set_xlabel('Income Level')
ax.set_ylabel('Counts of Coverage Range')
ax.set_title('Counts of Coverage Range by Income Level')
ax.legend(title='Coverage Range', bbox_to_anchor=(1.05, 1), loc='upper left')

folder_path = "Project 1 Images"

file_path = os.path.join(folder_path, "Counts of Coverage Range by Income Level.png")
plt.savefig(file_path)

plt.show()





# Group data by "Occupation" & "Preferred Communication Channel"
communication_by_occupation = cs_df.groupby(["Occupation", "Preferred Communication Channel"]).size().unstack(fill_value=0)
communication_by_occupation


# Visualize relationship between "Occupation" & "Preferred Communication Channel"

fig, ax = plt.subplots(figsize=(19, 6))

communication_by_occupation.plot(kind='bar', ax=ax) # stacked=True
plt.title('Preferred Communication Channels by Occupation')
plt.xlabel('Occupation')
plt.ylabel('Proportion of Communication Channels')
plt.xticks(rotation=45)
plt.legend(title='Communication Channels', bbox_to_anchor=(1.05, 1), loc='upper left')
plt.tight_layout()

folder_path = "Project 1 Images"

file_path = os.path.join(folder_path, "Preferred Communication Channels by Occupation.png")
plt.savefig(file_path)

plt.show()


# Correlation Analysis between Occupation and Preferred Communication Channel
# Chi-square test for independence
cross_tab_communication = pd.crosstab(cs_df['Occupation'], cs_df['Preferred Communication Channel'])
chi2_communication, p_communication, _, _ = chi2_contingency(cross_tab_communication)
print("Chi-square test results for communication channels:")
print(f"Chi-square statistic: {chi2_communication}")
print(f"P-value: {p_communication}")


# Group data by "Occupation" & "Preferred Contact Time"

contact_time_by_occupation = cs_df.groupby(["Occupation", "Preferred Contact Time"]).size().unstack(fill_value=0)
contact_time_by_occupation


# Visualize relationship between "Occupation" & "Preferred Contact Time"

fig, ax = plt.subplots(figsize=(19, 6))

contact_time_by_occupation.plot(kind='bar', ax=ax)
plt.title('Preferred Contact Time by Occupation')
plt.xlabel('Occupation')
plt.ylabel('Preferred Contact Time')
plt.xticks(rotation=45)
plt.legend(title='Contact Times', bbox_to_anchor=(1.05, 1), loc='upper left')
plt.tight_layout()

folder_path = "Project 1 Images"

file_path = os.path.join(folder_path, "Preferred Contact Time by Occupation.png")
plt.savefig(file_path)

plt.show()





# Establish the Age bins
age_bins = [0, 25, 40, 55, 70]
bins_labels = ["<25", "25-40","40-55", "55-70"]
customer_segmentation_df_copy = cs_df.copy()
customer_segmentation_df_copy["Age Range"] = pd.cut (x = customer_segmentation_df_copy["Age"], bins = age_bins, labels = bins_labels, include_lowest=True)

familypolicy = customer_segmentation_df_copy.loc [customer_segmentation_df_copy['Policy Type'] == 'Family', ['Age Range', 'Premium Amount']]
avg_premium_by_age_familypolicy = familypolicy.groupby (["Age Range"])["Premium Amount"].mean()
avg_premium_by_age_familypolicy.name = "Avg_Premium_Family"

businesspolicy = customer_segmentation_df_copy.loc [customer_segmentation_df_copy['Policy Type'] == 'Business', ['Age Range', 'Premium Amount']]
avg_premium_by_age_businesspolicy = businesspolicy.groupby (["Age Range"])["Premium Amount"].mean()
avg_premium_by_age_businesspolicy.name = "Avg_Premium_Business"

grouppolicy = customer_segmentation_df_copy.loc [customer_segmentation_df_copy['Policy Type'] == 'Group', ['Age Range', 'Premium Amount']]
avg_premium_by_age_grouppolicy = grouppolicy.groupby (["Age Range"])["Premium Amount"].mean()
avg_premium_by_age_grouppolicy.name = "Avg_Premium_Group"

individualpolicy = customer_segmentation_df_copy.loc [customer_segmentation_df_copy['Policy Type'] == 'Individual', ['Age Range', 'Premium Amount']]
avg_premium_by_age_individualpolicy = individualpolicy.groupby (["Age Range"])["Premium Amount"].mean()
avg_premium_by_age_individualpolicy.name = "Avg_Premium_Individual"

avg_premium_by_age_df = pd.merge (avg_premium_by_age_familypolicy, avg_premium_by_age_businesspolicy, how = "left", on = ["Age Range"])
avg_premium_by_age_df = pd.merge (avg_premium_by_age_df, avg_premium_by_age_grouppolicy, how = "left", on = ["Age Range"])
avg_premium_by_age_df = pd.merge (avg_premium_by_age_df, avg_premium_by_age_individualpolicy, how = "left", on = ["Age Range"])

avg_premium_by_age_df


# Plot a line chart to visualize the average premium amount by age group

avg_premium_by_age_plot = avg_premium_by_age_df.plot.line ()
avg_premium_by_age_plot.set_ylabel ("Premium Amount (Rs.)")
avg_premium_by_age_plot.set_title ("Average Premium Amount by Age Group")
avg_premium_by_age_plot.legend(bbox_to_anchor=(1.0, 1.0))

folder_path = "Project 1 Images"

file_path = os.path.join(folder_path, "Average Premium Amount by Age Group.png")
plt.savefig(file_path)

plt.show()





# Calculate the "Totals" to represent the count of observations for each combination of Marital Status and Policy Type
policy_by_marital = cs_df.groupby(["Marital Status", "Policy Type"]).size().reset_index(name='Totals')
policy_by_marital


#create a pivot for policy type by marital status
pies_by_policy = policy_by_marital.pivot(columns="Marital Status", index="Policy Type", values="Totals")
#use this pivot and divide by policy type, make a something a pie can be made of with the pie being policy type and slices marital status
pies_by_policy = pies_by_policy.div(pies_by_policy.sum(axis=1), axis=0)

folder_path = "Project 1 Images"

for policy_type, data in pies_by_policy.iterrows():
    plt.figure(figsize=(7, 5))
    plt.pie(data, labels=data.index, autopct="%1.1f%%", startangle=140)
    plt.title(f"Marital Status Distribution for {policy_type}")
    file_name = f"Marital_Status_Distribution_for_{policy_type}.png"
    file_path = os.path.join(folder_path, file_name)
    plt.savefig(file_path)
    

plt.show()


totals_by_marital = policy_by_marital.groupby("Marital Status")["Totals"].sum()
# Display the resulting DataFrame
totals_by_marital
plt.figure(figsize=(7, 8))
plt.pie(totals_by_marital, labels=totals_by_marital.index, autopct="%1.1f%%", startangle=140)
plt.title("Totals by Marital Status")
plt.axis("equal")  # Equal aspect ratio ensures that pie is drawn as a circle.

file_path = os.path.join(folder_path, "Totals by Marital Status.png")
plt.savefig(file_path)

plt.show()








Customer_Num = customer_segmentation[['Customer Number', 'Age', 'Coverage Amount']]
Customer_Num.head()


# Establish the bins
age_bracket = [0, 20, 40, 60, 80]
labels = ["<20", "20-40", "40-60", "60-80"]


# Convert "Age" column to float dtype
Customer_Num["Age"] = Customer_Num["Age"].astype(float)

# Create a copy of the DataFrame to avoid SettingWithCopyWarning
Customer_Num = Customer_Num.copy()

# Use .loc to set values on the copied DataFrame
Customer_Num.loc[:, "Coverage Range by Customer #"] = pd.cut(Customer_Num["Age"], bins=age_bracket, labels=labels, include_lowest=True)

Customer_Num.head()


# Convert "Coverage Amount" column to numeric dtype
Customer_Num["Coverage Amount"] = pd.to_numeric(Customer_Num["Coverage Amount"], errors='coerce')

# Group by "Coverage Range by Customer #" and calculate the mean of numeric values in "Coverage Amount" column
age_bracket_coverage = Customer_Num.groupby("Coverage Range by Customer #").agg({'Coverage Amount': ['mean', 'median', 'var', 'std', 'sem']})

age_bracket_coverage = age_bracket_coverage.round(2)

age_bracket_coverage



# Perform the ANOVA

f_statistic, p_value = stats.f_oneway(
    Customer_Num.loc[Customer_Num['Coverage Range by Customer #'] == '<20', "Coverage Amount"],
    Customer_Num.loc[Customer_Num['Coverage Range by Customer #'] == '20-40', "Coverage Amount"],
    Customer_Num.loc[Customer_Num['Coverage Range by Customer #'] == '40-60', "Coverage Amount"],
    Customer_Num.loc[Customer_Num['Coverage Range by Customer #'] == '60-80', "Coverage Amount"]
)

print("F-statistic:", f_statistic)
print("p-value:", p_value)








policy_counts = cs_df['Insurance Products Owned'].value_counts()
policy_counts_df = policy_counts.to_frame().reset_index()
policy_counts_df.columns = ['Insurance Products Owned', 'Count']
total_count = policy_counts_df['Count'].sum()
policy_counts_df['Percentage'] = ((policy_counts_df['Count'] / total_count) * 100).round(2)
policy_counts_df


policy_coverage_sum = customer_segmentation.groupby('Insurance Products Owned')['Coverage Amount'].sum()
policy_coverage_sum_df = policy_coverage_sum.to_frame().reset_index()
policy_coverage_sum_df.columns = ['Insurance Products Owned', 'Amount']
total_amount = policy_coverage_sum_df['Amount'].sum()
policy_coverage_sum_df['Percentage'] = ((policy_coverage_sum_df['Amount'] / total_amount) * 100).round(2)
policy_coverage_sum_df



